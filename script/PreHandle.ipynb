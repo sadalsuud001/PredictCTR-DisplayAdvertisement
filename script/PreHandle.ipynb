{
 "cells": [
  {
   "cell_type": "code",
   "execution_count": 3,
   "metadata": {},
   "outputs": [
    {
     "name": "stdout",
     "output_type": "stream",
     "text": [
      "     user  time_stamp  adgroup_id          pid  nonclk  clk  cate_id  \\\n",
      "0  581738  1494137644           1  430548_1007       1    0     9025   \n",
      "1  449818  1494638778           3  430548_1007       1    0     5998   \n",
      "2  914836  1494650879           4  430548_1007       1    0     7958   \n",
      "3  914836  1494651029           5  430548_1007       1    0     7958   \n",
      "4  399907  1494302958           8  430548_1007       1    0     1626   \n",
      "\n",
      "   campaign_id  customer     brand  price  \n",
      "0       108570      1337   20169.0   17.0  \n",
      "1       224368     30507       NaN    1.0  \n",
      "2       385883     39662  216840.0   85.0  \n",
      "3       385883     39662  216840.0   60.0  \n",
      "4       388290     42349  241359.0   63.0  \n"
     ]
    }
   ],
   "source": [
    "import pandas as pd\n",
    "\n",
    "ad_feature = pd.read_csv('ad_feature.csv')\n",
    "raw_sample = pd.read_csv('raw_sample.csv')\n",
    "\n",
    "new_data = pd.merge(raw_sample, ad_feature, on = ['adgroup_id'], how='inner')\n",
    "\n",
    "print(new_data.head(5))\n",
    "new_data.to_csv('raw_ad.csv')\n"
   ]
  },
  {
   "cell_type": "code",
   "execution_count": 8,
   "metadata": {},
   "outputs": [
    {
     "name": "stdout",
     "output_type": "stream",
     "text": [
      "     user  time_stamp  adgroup_id          pid  clk  cate_id     brand  price\n",
      "0  581738  1494137644           1  430548_1007    0     9025   20169.0   17.0\n",
      "1  449818  1494638778           3  430548_1007    0     5998       NaN    1.0\n",
      "2  914836  1494650879           4  430548_1007    0     7958  216840.0   85.0\n",
      "3  914836  1494651029           5  430548_1007    0     7958  216840.0   60.0\n",
      "4  399907  1494302958           8  430548_1007    0     1626  241359.0   63.0\n"
     ]
    }
   ],
   "source": [
    "raw_ad = pd.read_csv('raw_ad.csv', usecols=[1, 2, 3, 4, 6, 7, 10, 11])\n",
    "print(raw_ad.head(5))"
   ]
  },
  {
   "cell_type": "code",
   "execution_count": null,
   "metadata": {},
   "outputs": [
    {
     "name": "stdout",
     "output_type": "stream",
     "text": [
      "     user  time_stamp btag  cate_id     brand\n",
      "0  558157  1493741625   pv   6250.0   91286.0\n",
      "1  558157  1493741626   pv   6250.0   91286.0\n",
      "2  558157  1493741627   pv   6250.0   91286.0\n",
      "3  728690  1493776998   pv  11800.0   62353.0\n",
      "4  332634  1493809895   pv   1101.0  365477.0\n"
     ]
    }
   ],
   "source": [
    "import pandas as pd\n",
    "\n",
    "\n",
    "xaa = pd.read_csv('behavior/xaa.csv')\n"
   ]
  },
  {
   "cell_type": "code",
   "execution_count": 3,
   "metadata": {},
   "outputs": [
    {
     "name": "stdout",
     "output_type": "stream",
     "text": [
      "start aa\n",
      "aaa 0\n"
     ]
    }
   ],
   "source": [
    "import datetime\n",
    "starttime = datetime.datetime.now()\n",
    "filepath = 'aa'\n",
    "\n",
    "print('start %s' % filepath)\n",
    "endtime = datetime.datetime.now()\n",
    "\n",
    "print(\"aaa %d\" %(endtime-starttime).seconds)\n"
   ]
  },
  {
   "cell_type": "code",
   "execution_count": 2,
   "metadata": {},
   "outputs": [
    {
     "name": "stdout",
     "output_type": "stream",
     "text": [
      "<class 'pandas.core.frame.DataFrame'>\n",
      "RangeIndex: 23292567 entries, 0 to 23292566\n",
      "Data columns (total 6 columns):\n",
      "user    int64\n",
      "cate    float64\n",
      "cart    int64\n",
      "fav     int64\n",
      "pv      float64\n",
      "buy     float64\n",
      "dtypes: float64(3), int64(3)\n",
      "memory usage: 1.0 GB\n"
     ]
    }
   ],
   "source": [
    "import pandas as pd\n",
    "new_behavior = pd.read_csv('behavior/new_behavior1.csv')\n",
    "new_behavior.info()\n",
    "#behavior1 cate列改名没成功，记得之后要把cate改成cate_id"
   ]
  },
  {
   "cell_type": "code",
   "execution_count": 10,
   "metadata": {},
   "outputs": [
    {
     "name": "stdout",
     "output_type": "stream",
     "text": [
      "True\n"
     ]
    }
   ],
   "source": [
    "csv1 = 'aaa'\n",
    "csv2 = 'aaa'\n",
    "\n",
    "print(csv1 == csv2)"
   ]
  },
  {
   "cell_type": "code",
   "execution_count": null,
   "metadata": {},
   "outputs": [],
   "source": []
  }
 ],
 "metadata": {
  "kernelspec": {
   "display_name": "Python 3",
   "language": "python",
   "name": "python3"
  },
  "language_info": {
   "codemirror_mode": {
    "name": "ipython",
    "version": 3
   },
   "file_extension": ".py",
   "mimetype": "text/x-python",
   "name": "python",
   "nbconvert_exporter": "python",
   "pygments_lexer": "ipython3",
   "version": "3.6.4"
  }
 },
 "nbformat": 4,
 "nbformat_minor": 2
}
